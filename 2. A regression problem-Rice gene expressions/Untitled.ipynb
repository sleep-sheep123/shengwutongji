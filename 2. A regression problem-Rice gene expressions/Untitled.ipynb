{
 "cells": [
  {
   "cell_type": "code",
   "execution_count": null,
   "id": "6c2da581",
   "metadata": {},
   "outputs": [],
   "source": [
    "from regression import classifier\n",
    "from sklearn.model_selection import train_test_split\n",
    "\n",
    "\n",
    "\n",
    "a = classifier()\n",
    "seqs_list = a.readFa2seqslist('x-2k_sequence.fa')\n",
    "seqs_train,seqs_test = train_test_split(seqs_list,test_size=0.2,random_state=1008600)\n",
    "\n",
    "\n",
    "df_train = a.seqs2df(seqs_train,5)\n",
    "# print ('df_train done')\n",
    "x_train = df_train.iloc[:,:df_train.shape[1]-1]\n",
    "y_train = df_train['target']\n",
    "# print (x_train.head(5))\n",
    "# print (y_train.shape)\n",
    "\n",
    "df_test = a.seqs2df(seqs_test,5)\n",
    "x_test = df_test.iloc[:,:df_test.shape[1]-1]\n",
    "y_test = df_test['target']"
   ]
  },
  {
   "cell_type": "code",
   "execution_count": 2,
   "id": "739a5c7e",
   "metadata": {},
   "outputs": [],
   "source": [
    "from sklearn.linear_model import Lasso\n",
    "from scipy.stats import pearsonr\n",
    "\n",
    "model = Lasso()\n",
    "model.fit(x_train,y_train)\n",
    "y_predict = model.predict(x_test)\n",
    "p = pearsonr(y_predict,y_test)\n",
    "\n",
    "print (p)\n"
   ]
  },
  {
   "cell_type": "code",
   "execution_count": 6,
   "id": "f8545efb",
   "metadata": {},
   "outputs": [
    {
     "data": {
      "image/png": "[encoded data removed]",
      "text/plain": [
       "<Figure size 432x288 with 1 Axes>"
      ]
     },
     "metadata": {
      "needs_background": "light"
     },
     "output_type": "display_data"
    }
   ],
   "source": [
    "# 画出数据和拟合直线的图\n",
    "\n",
    "import matplotlib.pyplot as plt\n",
    "import matplotlib.pyplot as plt  \n",
    "plt.rcParams['font.sans-serif'] = [u'SimHei']\n",
    "plt.rcParams['axes.unicode_minus'] = False\n",
    "\n",
    "\n",
    "plt.scatter(y_test, y_predict)\n",
    "#plt.plot(y_test,y_predict,'b')\n",
    "plt.xlabel(\"y_ture\") \n",
    "plt.ylabel(\"y_predict\") \n",
    "plt.title(\"拟合结果\")\n",
    "plt.show()"
   ]
  }
 ],
 "metadata": {
  "kernelspec": {
   "display_name": "Python 3 (ipykernel)",
   "language": "python",
   "name": "python3"
  },
  "language_info": {
   "codemirror_mode": {
    "name": "ipython",
    "version": 3
   },
   "file_extension": ".py",
   "mimetype": "text/x-python",
   "name": "python",
   "nbconvert_exporter": "python",
   "pygments_lexer": "ipython3",
   "version": "3.10.4"
  },
  "toc": {
   "base_numbering": 1,
   "nav_menu": {},
   "number_sections": true,
   "sideBar": true,
   "skip_h1_title": false,
   "title_cell": "Table of Contents",
   "title_sidebar": "Contents",
   "toc_cell": false,
   "toc_position": {},
   "toc_section_display": true,
   "toc_window_display": false
  }
 },
 "nbformat": 4,
 "nbformat_minor": 5
}
